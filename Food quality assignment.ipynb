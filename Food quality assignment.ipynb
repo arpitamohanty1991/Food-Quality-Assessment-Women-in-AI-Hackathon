{
 "cells": [
  {
   "cell_type": "markdown",
   "metadata": {},
   "source": [
    "# Prerequisites for Train and Test Data"
   ]
  },
  {
   "cell_type": "code",
   "execution_count": 5,
   "metadata": {},
   "outputs": [],
   "source": [
    "import numpy as np\n",
    "import pandas as pd\n",
    "from sklearn.model_selection import train_test_split\n",
    "import lightgbm as lgb\n",
    "from lightgbm import LGBMClassifier\n",
    "from sklearn.metrics import log_loss\n",
    "from tqdm import tqdm_notebook\n",
    "from sklearn.utils import shuffle\n",
    "\n"
   ]
  },
  {
   "cell_type": "code",
   "execution_count": 8,
   "metadata": {},
   "outputs": [
    {
     "name": "stderr",
     "output_type": "stream",
     "text": [
      "C:\\Users\\Arpita\\Anaconda3\\lib\\site-packages\\ipykernel_launcher.py:5: FutureWarning: Sorting because non-concatenation axis is not aligned. A future version\n",
      "of pandas will change to not sort by default.\n",
      "\n",
      "To accept the future behavior, pass 'sort=False'.\n",
      "\n",
      "To retain the current behavior and silence the warning, pass 'sort=True'.\n",
      "\n",
      "  \"\"\"\n"
     ]
    }
   ],
   "source": [
    "train = pd.read_excel(r'C:\\Users\\Arpita\\Downloads\\Food_QUalityA_ParticipantsData\\Food_QUalityA_ParticipantsData\\Data_Train.xlsx')\n",
    "test = pd.read_excel(r'C:\\Users\\Arpita\\Downloads\\Food_QUalityA_ParticipantsData\\Food_QUalityA_ParticipantsData\\Data_Test.xlsx')\n",
    "sample = pd.read_excel(r'C:\\Users\\Arpita\\Downloads\\Food_QUalityA_ParticipantsData\\Food_QUalityA_ParticipantsData\\Sample_Submission.xlsx')\n",
    "ID_COL, TARGET_COL = 'ID', 'Inspection_Results'\n",
    "df = pd.concat([train, test]).reset_index(drop=True)"
   ]
  },
  {
   "cell_type": "code",
   "execution_count": 9,
   "metadata": {},
   "outputs": [],
   "source": [
    "def get_date_features(df):\n",
    "    df['Date'] = pd.to_datetime(df[\"Date\"], format = \"%d-%m-%Y\", errors='coerce')\n",
    "    df['year'] = df['Date'].dt.year\n",
    "    df['month'] = df['Date'].dt.month\n",
    "    df['day'] = df['Date'].dt.day\n",
    "get_date_features(df)"
   ]
  },
  {
   "cell_type": "code",
   "execution_count": 10,
   "metadata": {},
   "outputs": [],
   "source": [
    "for c in ['FacilityID', 'FacilityName', 'LicenseNo', 'Geo_Loc']:\n",
    "    temp = df.sort_values(by='Date').groupby(c)['Date'].diff(1).sort_index()\n",
    "    df[f'next_Inspection_day_diff_{c}'] = temp.dt.days"
   ]
  },
  {
   "cell_type": "code",
   "execution_count": 11,
   "metadata": {},
   "outputs": [],
   "source": [
    "df[['prev_Reason', 'prev_SectionViolations']] = df.sort_values(by='Date').groupby('FacilityID')[['Reason', 'SectionViolations']].shift(1).sort_index()"
   ]
  },
  {
   "cell_type": "code",
   "execution_count": 12,
   "metadata": {},
   "outputs": [],
   "source": [
    "for i in range(1, 6):\n",
    "    df[[f'next{i}_Reason_LicenseNo', f'next{i}_SectionViolations_LicenseNo', f'next{i}_RiskLevel_LicenseNo']] = df.sort_values(by='Date').groupby('LicenseNo')[['Reason', 'SectionViolations', 'RiskLevel']].shift(-i).sort_index()\n",
    "    \n",
    "for i in range(1, 6):\n",
    "    df[[f'next{i}_Reason_geoloc', f'next{i}_SectionViolations_geoloc', f'next{i}_RiskLevel_geoloc']] = df.sort_values(by='Date').groupby('Geo_Loc')[['Reason', 'SectionViolations', 'RiskLevel']].shift(-i).sort_index()\n",
    "    \n",
    "for i in range(1, 6):\n",
    "    df[[f'next{i}_Reason_id', f'next{i}_SectionViolations_id', f'next{i}_RiskLevel_id']] = df.sort_values(by='Date').groupby('FacilityID')[['Reason', 'SectionViolations', 'RiskLevel']].shift(-i).sort_index()\n",
    "    \n",
    "for i in range(1, 6):\n",
    "    df[[f'next{i}_Reason_name', f'next{i}_SectionViolations_name', f'next{i}_RiskLevel_name']] = df.sort_values(by='Date').groupby('FacilityName')[['Reason', 'SectionViolations', 'RiskLevel']].shift(-i).sort_index()"
   ]
  },
  {
   "cell_type": "code",
   "execution_count": 13,
   "metadata": {},
   "outputs": [],
   "source": [
    "\n",
    "df['SectionViolations_cumsum'] = df.sort_values(by='Date').groupby('FacilityID')['SectionViolations'].cumsum().shift(-1).sort_index()"
   ]
  },
  {
   "cell_type": "code",
   "execution_count": 14,
   "metadata": {},
   "outputs": [],
   "source": [
    "grp = df.groupby('year').agg({'SectionViolations': ['max', 'sum', 'mean', 'min'], 'FacilityID': ['nunique' ,'size'], 'Geo_Loc': ['nunique','size'],\n",
    "                              'FacilityName': ['nunique','size'], 'LocationID': ['nunique','size'], 'LicenseNo': ['nunique','size'] ,'Type': ['nunique' ,'size']})\n",
    "grp.columns = ['_'.join(c).strip('_') + '_yearwise' for c in grp.columns]\n",
    "df = pd.merge(df, grp, how = 'left', on ='year')"
   ]
  },
  {
   "cell_type": "code",
   "execution_count": 15,
   "metadata": {},
   "outputs": [],
   "source": [
    "grp = df.groupby(['FacilityID', 'Date']).agg({'SectionViolations': ['max', 'sum', 'mean', 'min'], 'Geo_Loc': ['nunique','size'],'Reason': ['nunique', 'size'],\n",
    "                                     'FacilityName': ['nunique','size'], 'LocationID': ['nunique','size'], 'LicenseNo': ['nunique','size'] ,'Type': ['nunique' ,'size']})\n",
    "grp.columns = ['_'.join(c).strip('_') + '_FacilityID_and_Date_based' for c in grp.columns]\n",
    "df = pd.merge(df, grp, how = 'left', on =['FacilityID', 'Date'])"
   ]
  },
  {
   "cell_type": "code",
   "execution_count": 16,
   "metadata": {},
   "outputs": [],
   "source": [
    "grp = df.groupby(['FacilityName', 'Date']).agg({'SectionViolations': ['max', 'sum', 'mean', 'min'], 'Geo_Loc': ['nunique','size'],'Reason': ['nunique', 'size'],\n",
    "                                     'FacilityID': ['nunique','size'], 'LocationID': ['nunique','size'], 'LicenseNo': ['nunique','size'] ,'Type': ['nunique' ,'size']})\n",
    "grp.columns = ['_'.join(c).strip('_') + '_FacilityName_and_Date_based' for c in grp.columns]\n",
    "df = pd.merge(df, grp, how = 'left', on =['FacilityName', 'Date'])"
   ]
  },
  {
   "cell_type": "code",
   "execution_count": 17,
   "metadata": {},
   "outputs": [],
   "source": [
    "grp = df.groupby(['LicenseNo', 'Date']).agg({'SectionViolations': ['max', 'sum', 'mean', 'min'], 'Geo_Loc': ['nunique','size'],'Reason': ['nunique', 'size'],\n",
    "                                     'FacilityID': ['nunique','size'], 'LocationID': ['nunique','size'], 'LicenseNo': ['nunique','size'] ,'Type': ['nunique' ,'size']})\n",
    "grp.columns = ['_'.join(c).strip('_') + '_LicenseNo_and_Date_based' for c in grp.columns]\n",
    "df = pd.merge(df, grp, how = 'left', on =['LicenseNo', 'Date'])"
   ]
  },
  {
   "cell_type": "code",
   "execution_count": 18,
   "metadata": {},
   "outputs": [],
   "source": [
    "grp = df.groupby('LicenseNo').agg({'SectionViolations': ['mean'], 'FacilityID': ['nunique'],\n",
    "                              'FacilityName': ['nunique'], 'LocationID': ['nunique'], 'Geo_Loc': ['nunique']})\n",
    "grp.columns = ['_'.join(c).strip('_') + '_Geo_Loc_based' for c in grp.columns]\n",
    "df = pd.merge(df, grp, how = 'left', on ='LicenseNo')"
   ]
  },
  {
   "cell_type": "code",
   "execution_count": 19,
   "metadata": {},
   "outputs": [],
   "source": [
    "grp = df.groupby('FacilityID').agg({'SectionViolations': ['max'], 'Geo_Loc': ['nunique'],\n",
    "                              'FacilityName': ['nunique'], 'LocationID': ['nunique'], 'LicenseNo': ['nunique']})\n",
    "grp.columns = ['_'.join(c).strip('_') + '_FacilityID_based' for c in grp.columns]\n",
    "df = pd.merge(df, grp, how = 'left', on ='FacilityID')"
   ]
  },
  {
   "cell_type": "code",
   "execution_count": 20,
   "metadata": {},
   "outputs": [],
   "source": [
    "grp = df.groupby('Reason').agg({'SectionViolations': ['max'], 'FacilityID': ['nunique'], 'Geo_Loc': ['nunique'],\n",
    "                              'FacilityName': ['nunique'], 'LocationID': ['nunique'], 'LicenseNo': ['nunique']})\n",
    "grp.columns = ['_'.join(c).strip('_') + '_Reason_based' for c in grp.columns]\n",
    "df = pd.merge(df, grp, how = 'left', on ='Reason')"
   ]
  },
  {
   "cell_type": "code",
   "execution_count": 21,
   "metadata": {},
   "outputs": [],
   "source": [
    "df[f'n_days_from_start'] = (df['Date'].dt.date - df['Date'].min().date()).dt.days\n",
    "df[f'n_weeks_from_start'] = (df['Date'].dt.date - df['Date'].min().date()).dt.days//7\n",
    "df[f'n_days_from_end'] = (df['Date'].max().date() - df['Date'].dt.date).dt.days\n",
    "df[f'n_weeks_from_end'] = (df['Date'].max().date() - df['Date'].dt.date).dt.days//7"
   ]
  },
  {
   "cell_type": "code",
   "execution_count": 22,
   "metadata": {},
   "outputs": [
    {
     "data": {
      "application/vnd.jupyter.widget-view+json": {
       "model_id": "1551d1231c9d473382f58e4c0d736221",
       "version_major": 2,
       "version_minor": 0
      },
      "text/plain": [
       "HBox(children=(IntProgress(value=0, max=3), HTML(value='')))"
      ]
     },
     "metadata": {},
     "output_type": "display_data"
    },
    {
     "name": "stdout",
     "output_type": "stream",
     "text": [
      "\n"
     ]
    }
   ],
   "source": [
    "for c in tqdm_notebook(['FacilityID', 'FacilityName', 'LicenseNo']):\n",
    "    df[f'next_inspection_day_diff_{c}'] = df.sort_values(by='Date').groupby(c)['n_days_from_start'].apply(lambda x: x - x.shift(-1))\n",
    "    df[f'prev_inspection_day_diff_{c}'] = df.sort_values(by='Date').groupby(c)['n_days_from_start'].apply(lambda x: x - x.shift(1))"
   ]
  },
  {
   "cell_type": "code",
   "execution_count": 23,
   "metadata": {},
   "outputs": [
    {
     "data": {
      "application/vnd.jupyter.widget-view+json": {
       "model_id": "895765b82ad940b7b5c08f58f461e8e1",
       "version_major": 2,
       "version_minor": 0
      },
      "text/plain": [
       "HBox(children=(IntProgress(value=0, max=3), HTML(value='')))"
      ]
     },
     "metadata": {},
     "output_type": "display_data"
    },
    {
     "name": "stdout",
     "output_type": "stream",
     "text": [
      "\n"
     ]
    }
   ],
   "source": [
    "for c in tqdm_notebook(['FacilityID', 'FacilityName', 'LicenseNo']):\n",
    "    df[f'next2_inspection_day_diff_{c}'] = df.sort_values(by='Date').groupby(c)['n_days_from_start'].apply(lambda x: x - x.shift(-2))\n",
    "    df[f'prev2_inspection_day_diff_{c}'] = df.sort_values(by='Date').groupby(c)['n_days_from_start'].apply(lambda x: x - x.shift(2))"
   ]
  },
  {
   "cell_type": "code",
   "execution_count": 24,
   "metadata": {},
   "outputs": [],
   "source": [
    "df[f'n_days_from_start_fid'] = df.groupby('FacilityID')['Date'].apply(lambda x: (x - x.min()).dt.days)\n",
    "df[f'n_days_from_end_fid'] = df.groupby('FacilityID')['Date'].apply(lambda x: (x.max() - x).dt.days)\n",
    "df[f'n_days_from_end_lno'] = df.groupby('LicenseNo')['Date'].apply(lambda x: (x.max() - x).dt.days)\n",
    "df[f'n_days_from_start_lno'] = df.groupby('LicenseNo')['Date'].apply(lambda x: (x-x.min()).dt.days)"
   ]
  },
  {
   "cell_type": "code",
   "execution_count": 25,
   "metadata": {},
   "outputs": [],
   "source": [
    "df[f'n_days_from_start_fn'] = df.groupby('FacilityName')['Date'].apply(lambda x: (x - x.min()).dt.days)\n",
    "df[f'n_days_from_end_fn'] = df.groupby('FacilityName')['Date'].apply(lambda x: (x.max() - x).dt.days)\n",
    "df[f'n_days_from_start_geoloc'] = df.groupby('Geo_Loc')['Date'].apply(lambda x: (x - x.min()).dt.days)\n",
    "df[f'n_days_from_end_geoloc'] = df.groupby('Geo_Loc')['Date'].apply(lambda x: (x.max() - x).dt.days)"
   ]
  },
  {
   "cell_type": "code",
   "execution_count": 26,
   "metadata": {},
   "outputs": [
    {
     "data": {
      "application/vnd.jupyter.widget-view+json": {
       "model_id": "a6be6388fd9e4e8daf66f2e98cab89d6",
       "version_major": 2,
       "version_minor": 0
      },
      "text/plain": [
       "HBox(children=(IntProgress(value=0, max=7), HTML(value='')))"
      ]
     },
     "metadata": {},
     "output_type": "display_data"
    },
    {
     "name": "stdout",
     "output_type": "stream",
     "text": [
      "\n"
     ]
    }
   ],
   "source": [
    "high_cardinality_cols = ['FacilityID', 'FacilityName', 'Geo_Loc', 'LicenseNo', 'Street', 'Type', 'LocationID']\n",
    "for c in tqdm_notebook(high_cardinality_cols):\n",
    "    temp = pd.Series(pd.factorize(df['Date'].astype('str') + df[c].astype('str'))[0])\n",
    "    temp =  temp.map(temp.value_counts())\n",
    "    df[f'Date_{c}_freq'] = temp"
   ]
  },
  {
   "cell_type": "code",
   "execution_count": 27,
   "metadata": {},
   "outputs": [],
   "source": [
    "cat_cols = ['City', 'Date', 'FacilityID', 'FacilityName', 'Geo_Loc', 'LicenseNo', 'LocationID', 'Reason', 'RiskLevel', 'State', 'Street', 'Type']\n",
    "obj_cols = df.select_dtypes('object').columns.tolist()\n",
    "cat_cols = list(set(cat_cols + obj_cols))\n",
    "df[cat_cols] = df[cat_cols].apply(lambda x: pd.factorize(x)[0])"
   ]
  },
  {
   "cell_type": "code",
   "execution_count": 28,
   "metadata": {},
   "outputs": [],
   "source": [
    "df[[c + '_freq' for c in cat_cols]] = df[cat_cols].apply(lambda x: x.map(x.value_counts()))"
   ]
  },
  {
   "cell_type": "code",
   "execution_count": 29,
   "metadata": {},
   "outputs": [],
   "source": [
    "train, test = df.iloc[:train.shape[0]], df.iloc[train.shape[0]:]\n",
    "test.reset_index(drop=True, inplace=True)\n",
    "target = train[TARGET_COL]\n",
    "features = [c for c in train.columns if c not in [ID_COL, TARGET_COL]]"
   ]
  },
  {
   "cell_type": "code",
   "execution_count": 30,
   "metadata": {},
   "outputs": [
    {
     "name": "stdout",
     "output_type": "stream",
     "text": [
      "247\n"
     ]
    }
   ],
   "source": [
    "print(len(features))"
   ]
  },
  {
   "cell_type": "code",
   "execution_count": 31,
   "metadata": {},
   "outputs": [],
   "source": [
    "X_trn, X_val, y_trn, y_val = train_test_split(train[features], target, test_size=0.1, stratify=target, random_state=10)\n",
    "X_test = test[features]"
   ]
  },
  {
   "cell_type": "code",
   "execution_count": 32,
   "metadata": {},
   "outputs": [
    {
     "name": "stdout",
     "output_type": "stream",
     "text": [
      "Training until validation scores don't improve for 100 rounds\n",
      "[100]\ttraining's multi_logloss: 0.461033\tvalid_1's multi_logloss: 0.470144\n",
      "[200]\ttraining's multi_logloss: 0.243423\tvalid_1's multi_logloss: 0.257989\n",
      "[300]\ttraining's multi_logloss: 0.16078\tvalid_1's multi_logloss: 0.181025\n",
      "[400]\ttraining's multi_logloss: 0.123709\tvalid_1's multi_logloss: 0.150312\n",
      "[500]\ttraining's multi_logloss: 0.103395\tvalid_1's multi_logloss: 0.13681\n",
      "[600]\ttraining's multi_logloss: 0.0902175\tvalid_1's multi_logloss: 0.13044\n",
      "[700]\ttraining's multi_logloss: 0.0803665\tvalid_1's multi_logloss: 0.127125\n",
      "[800]\ttraining's multi_logloss: 0.0723591\tvalid_1's multi_logloss: 0.125269\n",
      "[900]\ttraining's multi_logloss: 0.0655915\tvalid_1's multi_logloss: 0.124046\n",
      "[1000]\ttraining's multi_logloss: 0.0597728\tvalid_1's multi_logloss: 0.123257\n",
      "[1100]\ttraining's multi_logloss: 0.0546852\tvalid_1's multi_logloss: 0.122709\n",
      "[1200]\ttraining's multi_logloss: 0.0502615\tvalid_1's multi_logloss: 0.122369\n",
      "[1300]\ttraining's multi_logloss: 0.0463416\tvalid_1's multi_logloss: 0.122161\n",
      "[1400]\ttraining's multi_logloss: 0.0428769\tvalid_1's multi_logloss: 0.122005\n",
      "[1500]\ttraining's multi_logloss: 0.0398145\tvalid_1's multi_logloss: 0.12196\n",
      "Early stopping, best iteration is:\n",
      "[1490]\ttraining's multi_logloss: 0.0401072\tvalid_1's multi_logloss: 0.121949\n",
      "Log loss for Model 1 is: 0.12194902031264654\n"
     ]
    }
   ],
   "source": [
    "clf = LGBMClassifier(learning_rate=0.01, colsample_bytree=0.3, reg_alpha=3, reg_lambda=3, max_depth=-1, n_estimators=2000, min_child_samples=15, num_leaves=141)\n",
    "_ = clf.fit(X_trn, y_trn, eval_set=[(X_trn, y_trn), (X_val, y_val)], verbose=100, early_stopping_rounds=100)\n",
    "predictions_val_lgb = clf.predict_proba(X_val)\n",
    "print(f\"Log loss for Model 1 is: {log_loss(y_val, predictions_val_lgb)}\")"
   ]
  },
  {
   "cell_type": "code",
   "execution_count": 36,
   "metadata": {},
   "outputs": [
    {
     "data": {
      "text/plain": [
       "<matplotlib.axes._subplots.AxesSubplot at 0x16e8ed88>"
      ]
     },
     "execution_count": 36,
     "metadata": {},
     "output_type": "execute_result"
    },
    {
     "data": {
      "image/png": "[encoded data removed]",
      "text/plain": [
       "<Figure size 432x288 with 1 Axes>"
      ]
     },
     "metadata": {
      "needs_background": "light"
     },
     "output_type": "display_data"
    }
   ],
   "source": [
    "fi = pd.Series(index=features, data = clf.feature_importances_)\n",
    "fi.sort_values(ascending=False)[:20][::-1].plot.barh()"
   ]
  },
  {
   "cell_type": "code",
   "execution_count": 34,
   "metadata": {},
   "outputs": [],
   "source": [
    "predictions_test_lgb = clf.predict_proba(X_test)"
   ]
  },
  {
   "cell_type": "code",
   "execution_count": 35,
   "metadata": {},
   "outputs": [],
   "source": [
    "target_mapper = {0:'FACILITY CHANGED',\n",
    "1:'FAIL',\n",
    "2:'FURTHER INSPECTION REQUIRED',\n",
    "3:'INSPECTION OVERRULED',\n",
    "4:'PASS',\n",
    "5:'PASS(CONDITIONAL)',\n",
    "6:'SHUT-DOWN'}\n",
    "sub_df = pd.DataFrame(predictions_test_lgb)\n",
    "sub_df.columns = [target_mapper[c] for c in sub_df.columns]\n",
    "sub_df.to_excel(\"food_quality_final_solution.xlsx\", index=False)"
   ]
  },
  {
   "cell_type": "code",
   "execution_count": 38,
   "metadata": {},
   "outputs": [
    {
     "data": {
      "text/html": [
       "<div>\n",
       "<style scoped>\n",
       "    .dataframe tbody tr th:only-of-type {\n",
       "        vertical-align: middle;\n",
       "    }\n",
       "\n",
       "    .dataframe tbody tr th {\n",
       "        vertical-align: top;\n",
       "    }\n",
       "\n",
       "    .dataframe thead th {\n",
       "        text-align: right;\n",
       "    }\n",
       "</style>\n",
       "<table border=\"1\" class=\"dataframe\">\n",
       "  <thead>\n",
       "    <tr style=\"text-align: right;\">\n",
       "      <th></th>\n",
       "      <th>FACILITY CHANGED</th>\n",
       "      <th>FAIL</th>\n",
       "      <th>FURTHER INSPECTION REQUIRED</th>\n",
       "      <th>INSPECTION OVERRULED</th>\n",
       "      <th>PASS</th>\n",
       "      <th>PASS(CONDITIONAL)</th>\n",
       "      <th>SHUT-DOWN</th>\n",
       "    </tr>\n",
       "  </thead>\n",
       "  <tbody>\n",
       "    <tr>\n",
       "      <td>0</td>\n",
       "      <td>0.000028</td>\n",
       "      <td>0.969533</td>\n",
       "      <td>0.000252</td>\n",
       "      <td>0.003790</td>\n",
       "      <td>0.001444</td>\n",
       "      <td>0.024442</td>\n",
       "      <td>0.000511</td>\n",
       "    </tr>\n",
       "    <tr>\n",
       "      <td>1</td>\n",
       "      <td>0.000007</td>\n",
       "      <td>0.000469</td>\n",
       "      <td>0.000008</td>\n",
       "      <td>0.000034</td>\n",
       "      <td>0.999209</td>\n",
       "      <td>0.000242</td>\n",
       "      <td>0.000031</td>\n",
       "    </tr>\n",
       "    <tr>\n",
       "      <td>2</td>\n",
       "      <td>0.000165</td>\n",
       "      <td>0.000521</td>\n",
       "      <td>0.000213</td>\n",
       "      <td>0.993719</td>\n",
       "      <td>0.003476</td>\n",
       "      <td>0.000171</td>\n",
       "      <td>0.001735</td>\n",
       "    </tr>\n",
       "    <tr>\n",
       "      <td>3</td>\n",
       "      <td>0.000333</td>\n",
       "      <td>0.077933</td>\n",
       "      <td>0.000112</td>\n",
       "      <td>0.000440</td>\n",
       "      <td>0.021359</td>\n",
       "      <td>0.001586</td>\n",
       "      <td>0.898237</td>\n",
       "    </tr>\n",
       "    <tr>\n",
       "      <td>4</td>\n",
       "      <td>0.000006</td>\n",
       "      <td>0.000382</td>\n",
       "      <td>0.000010</td>\n",
       "      <td>0.000038</td>\n",
       "      <td>0.998279</td>\n",
       "      <td>0.001257</td>\n",
       "      <td>0.000028</td>\n",
       "    </tr>\n",
       "    <tr>\n",
       "      <td>...</td>\n",
       "      <td>...</td>\n",
       "      <td>...</td>\n",
       "      <td>...</td>\n",
       "      <td>...</td>\n",
       "      <td>...</td>\n",
       "      <td>...</td>\n",
       "      <td>...</td>\n",
       "    </tr>\n",
       "    <tr>\n",
       "      <td>49143</td>\n",
       "      <td>0.000030</td>\n",
       "      <td>0.000333</td>\n",
       "      <td>0.000016</td>\n",
       "      <td>0.000199</td>\n",
       "      <td>0.000745</td>\n",
       "      <td>0.000242</td>\n",
       "      <td>0.998435</td>\n",
       "    </tr>\n",
       "    <tr>\n",
       "      <td>49144</td>\n",
       "      <td>0.000010</td>\n",
       "      <td>0.000881</td>\n",
       "      <td>0.000023</td>\n",
       "      <td>0.000413</td>\n",
       "      <td>0.996958</td>\n",
       "      <td>0.001640</td>\n",
       "      <td>0.000074</td>\n",
       "    </tr>\n",
       "    <tr>\n",
       "      <td>49145</td>\n",
       "      <td>0.000007</td>\n",
       "      <td>0.000139</td>\n",
       "      <td>0.000011</td>\n",
       "      <td>0.000339</td>\n",
       "      <td>0.998283</td>\n",
       "      <td>0.001182</td>\n",
       "      <td>0.000039</td>\n",
       "    </tr>\n",
       "    <tr>\n",
       "      <td>49146</td>\n",
       "      <td>0.000024</td>\n",
       "      <td>0.006441</td>\n",
       "      <td>0.000155</td>\n",
       "      <td>0.001220</td>\n",
       "      <td>0.008806</td>\n",
       "      <td>0.982980</td>\n",
       "      <td>0.000373</td>\n",
       "    </tr>\n",
       "    <tr>\n",
       "      <td>49147</td>\n",
       "      <td>0.000004</td>\n",
       "      <td>0.000103</td>\n",
       "      <td>0.000051</td>\n",
       "      <td>0.000125</td>\n",
       "      <td>0.999310</td>\n",
       "      <td>0.000373</td>\n",
       "      <td>0.000033</td>\n",
       "    </tr>\n",
       "  </tbody>\n",
       "</table>\n",
       "<p>49148 rows × 7 columns</p>\n",
       "</div>"
      ],
      "text/plain": [
       "       FACILITY CHANGED      FAIL  FURTHER INSPECTION REQUIRED  \\\n",
       "0              0.000028  0.969533                     0.000252   \n",
       "1              0.000007  0.000469                     0.000008   \n",
       "2              0.000165  0.000521                     0.000213   \n",
       "3              0.000333  0.077933                     0.000112   \n",
       "4              0.000006  0.000382                     0.000010   \n",
       "...                 ...       ...                          ...   \n",
       "49143          0.000030  0.000333                     0.000016   \n",
       "49144          0.000010  0.000881                     0.000023   \n",
       "49145          0.000007  0.000139                     0.000011   \n",
       "49146          0.000024  0.006441                     0.000155   \n",
       "49147          0.000004  0.000103                     0.000051   \n",
       "\n",
       "       INSPECTION OVERRULED      PASS  PASS(CONDITIONAL)  SHUT-DOWN  \n",
       "0                  0.003790  0.001444           0.024442   0.000511  \n",
       "1                  0.000034  0.999209           0.000242   0.000031  \n",
       "2                  0.993719  0.003476           0.000171   0.001735  \n",
       "3                  0.000440  0.021359           0.001586   0.898237  \n",
       "4                  0.000038  0.998279           0.001257   0.000028  \n",
       "...                     ...       ...                ...        ...  \n",
       "49143              0.000199  0.000745           0.000242   0.998435  \n",
       "49144              0.000413  0.996958           0.001640   0.000074  \n",
       "49145              0.000339  0.998283           0.001182   0.000039  \n",
       "49146              0.001220  0.008806           0.982980   0.000373  \n",
       "49147              0.000125  0.999310           0.000373   0.000033  \n",
       "\n",
       "[49148 rows x 7 columns]"
      ]
     },
     "execution_count": 38,
     "metadata": {},
     "output_type": "execute_result"
    }
   ],
   "source": [
    "sub_df"
   ]
  },
  {
   "cell_type": "code",
   "execution_count": null,
   "metadata": {},
   "outputs": [],
   "source": []
  }
 ],
 "metadata": {
  "kernelspec": {
   "display_name": "Python 3",
   "language": "python",
   "name": "python3"
  },
  "language_info": {
   "codemirror_mode": {
    "name": "ipython",
    "version": 3
   },
   "file_extension": ".py",
   "mimetype": "text/x-python",
   "name": "python",
   "nbconvert_exporter": "python",
   "pygments_lexer": "ipython3",
   "version": "3.7.4"
  }
 },
 "nbformat": 4,
 "nbformat_minor": 2
}
